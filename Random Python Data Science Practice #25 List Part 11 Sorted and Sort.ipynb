{
 "cells": [
  {
   "cell_type": "markdown",
   "metadata": {},
   "source": [
    "## Random Python Data Science Practice #25"
   ]
  },
  {
   "cell_type": "markdown",
   "metadata": {},
   "source": [
    "## List Part 11 Sorted and Sort"
   ]
  },
  {
   "cell_type": "code",
   "execution_count": 6,
   "metadata": {},
   "outputs": [
    {
     "data": {
      "text/plain": [
       "[85, 65, 90, 95, 60, 55, 75, 80, 95, 90]"
      ]
     },
     "execution_count": 6,
     "metadata": {},
     "output_type": "execute_result"
    }
   ],
   "source": [
    "# Create list\n",
    "mark_list = [85, 65, 90, 95, 60, 55, 75, 80, 95, 90]\n",
    "mark_list"
   ]
  },
  {
   "cell_type": "markdown",
   "metadata": {},
   "source": [
    "## Sorted"
   ]
  },
  {
   "cell_type": "code",
   "execution_count": 7,
   "metadata": {},
   "outputs": [
    {
     "name": "stdout",
     "output_type": "stream",
     "text": [
      "Sort mark with .sort()= [55, 60, 65, 75, 80, 85, 90, 90, 95, 95]\n"
     ]
    }
   ],
   "source": [
    "# Sorted\n",
    "mark_list_sorted = sorted(mark_list)\n",
    "print('Sort mark with .sort()=', mark_list_sorted)"
   ]
  },
  {
   "cell_type": "code",
   "execution_count": 13,
   "metadata": {},
   "outputs": [
    {
     "name": "stdout",
     "output_type": "stream",
     "text": [
      "Sort mark with .sort()= [95, 95, 90, 90, 85, 80, 75, 65, 60, 55]\n"
     ]
    }
   ],
   "source": [
    "# Sorted reverse\n",
    "mark_list_sorted = sorted(mark_list,reverse=True)\n",
    "print('Sort mark with .sort()=', mark_list_sorted)"
   ]
  },
  {
   "cell_type": "markdown",
   "metadata": {},
   "source": [
    "## Sort"
   ]
  },
  {
   "cell_type": "code",
   "execution_count": 11,
   "metadata": {},
   "outputs": [
    {
     "name": "stdout",
     "output_type": "stream",
     "text": [
      "Sort mark with .sort()= [55, 60, 65, 75, 80, 85, 90, 90, 95, 95]\n"
     ]
    }
   ],
   "source": [
    "# Sort\n",
    "mark_list.sort()\n",
    "print('Sort mark with .sort()=', mark_list)"
   ]
  },
  {
   "cell_type": "code",
   "execution_count": null,
   "metadata": {},
   "outputs": [],
   "source": []
  }
 ],
 "metadata": {
  "kernelspec": {
   "display_name": "Python 3",
   "language": "python",
   "name": "python3"
  },
  "language_info": {
   "codemirror_mode": {
    "name": "ipython",
    "version": 3
   },
   "file_extension": ".py",
   "mimetype": "text/x-python",
   "name": "python",
   "nbconvert_exporter": "python",
   "pygments_lexer": "ipython3",
   "version": "3.8.5"
  }
 },
 "nbformat": 4,
 "nbformat_minor": 4
}
